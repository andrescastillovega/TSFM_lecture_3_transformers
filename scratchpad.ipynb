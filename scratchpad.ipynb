{
 "cells": [
  {
   "cell_type": "code",
   "execution_count": 1,
   "id": "b1573d53",
   "metadata": {},
   "outputs": [],
   "source": [
    "import sys\n",
    "import os\n",
    "import numpy as np\n",
    "\n",
    "from tokenizer.EncoderDecoder import encoder, decoder\n",
    "from tokenizer.utils import load_bpe, render_token\n",
    "\n",
    "from io import BufferedReader\n",
    "import matplotlib.pyplot as plt\n",
    "import functools\n",
    "import multiprocessing\n",
    "from tqdm import tqdm, trange\n",
    "import math\n",
    "\n",
    "import torch\n",
    "import torch.nn.functional as F"
   ]
  },
  {
   "cell_type": "code",
   "execution_count": 2,
   "id": "6c179cd9",
   "metadata": {},
   "outputs": [],
   "source": [
    "NPROC = 16\n",
    "VOCAB_SIZE = 1256\n",
    "D = 512 # model dimension (embeddings)\n",
    "S = 100 # Sequence lenght (context)"
   ]
  },
  {
   "cell_type": "markdown",
   "id": "b24f454a",
   "metadata": {},
   "source": [
    "# Tokenization"
   ]
  },
  {
   "cell_type": "code",
   "execution_count": 3,
   "id": "7729d7b2",
   "metadata": {},
   "outputs": [],
   "source": [
    "def get_chunk_boundaries(file_path: str, special_token: str = '<|endoftext|>'):\n",
    "    f: BufferedReader = open(file_path, 'rb')\n",
    "    content = f.read()\n",
    "    f.close()    \n",
    "\n",
    "    chunk_starts = [0]\n",
    "    start_index = 0\n",
    "    while True:\n",
    "        match_index = content.find(special_token.encode('utf-8'), start_index)\n",
    "        if match_index == -1:\n",
    "            break\n",
    "        chunk_starts.append(match_index + len(special_token))\n",
    "        start_index = match_index + len(special_token)\n",
    "    chunk_ends = chunk_starts[1:]\n",
    "    chunk_ends.append(len(content))\n",
    "    chunk_boundaries = list(zip(chunk_starts, chunk_ends))\n",
    "\n",
    "    return chunk_boundaries"
   ]
  },
  {
   "cell_type": "code",
   "execution_count": 4,
   "id": "9bbd8461",
   "metadata": {},
   "outputs": [],
   "source": [
    "def encode_chunk(chunk_boundaries: tuple, file_path: str, model: str):\n",
    "    f = open(file_path, 'rb')\n",
    "    chunk_start, chunk_end = chunk_boundaries\n",
    "    \n",
    "    f.seek(chunk_start)\n",
    "\n",
    "    tokens = encoder(f.read(chunk_end-chunk_start).decode(), model=model)\n",
    "    f.close()\n",
    "    return tokens, len(tokens)"
   ]
  },
  {
   "cell_type": "code",
   "execution_count": 5,
   "id": "20e2a7c2",
   "metadata": {},
   "outputs": [],
   "source": [
    "def tokenize_train_data(file_path: str, tokenizer:str):\n",
    "    encode_f = functools.partial(encode_chunk, file_path=file_path, model=tokenizer)\n",
    "\n",
    "    chunks_boundaries = get_chunk_boundaries(file_path=file_path)\n",
    "\n",
    "    chunks_tokens = []\n",
    "    with multiprocessing.Pool(NPROC) as p:\n",
    "        for chunk in tqdm(p.imap_unordered(encode_f, chunks_boundaries), total=len(chunks_boundaries), desc=\"Tokenizing\"):\n",
    "            chunks_tokens.append(chunk)\n",
    "        p.close()\n",
    "        p.join()\n",
    "    \n",
    "    return chunks_tokens"
   ]
  },
  {
   "cell_type": "code",
   "execution_count": 6,
   "id": "b915c224",
   "metadata": {},
   "outputs": [
    {
     "name": "stderr",
     "output_type": "stream",
     "text": [
      "Tokenizing: 100%|██████████| 460/460 [00:04<00:00, 95.67it/s] \n"
     ]
    }
   ],
   "source": [
    "tokens = tokenize_train_data('tokenizer/data/toy_data.txt', tokenizer='tinystories')"
   ]
  },
  {
   "cell_type": "code",
   "execution_count": 7,
   "id": "92c8afc3",
   "metadata": {},
   "outputs": [
    {
     "data": {
      "image/png": "[encoded data removed]",
      "text/plain": [
       "<Figure size 640x480 with 1 Axes>"
      ]
     },
     "metadata": {},
     "output_type": "display_data"
    }
   ],
   "source": [
    "lenghts = [ lenght for _, lenght in tokens ]\n",
    "plt.hist(lenghts, bins=100);"
   ]
  },
  {
   "cell_type": "code",
   "execution_count": 8,
   "id": "e1c9c075",
   "metadata": {},
   "outputs": [],
   "source": [
    "def dataloader(chunks: list, B: int, S: int, stride: int):\n",
    "    inputs = []\n",
    "    targets = []\n",
    "    for tokens, lenght in chunks:\n",
    "        for idx in range(0, lenght - S - 1, stride):\n",
    "            inputs.append(tokens[idx:idx + S])\n",
    "            targets.append(tokens[idx+1:idx + S + 1])\n",
    "\n",
    "    for i in range(0, len(inputs), B):\n",
    "        batch_inputs = inputs[i:i + B]\n",
    "        batch_targets = targets[i:i + B]\n",
    "        \n",
    "        if len(batch_inputs) == B:\n",
    "            yield batch_inputs, batch_targets\n",
    "\n",
    "    return batch_inputs, batch_targets"
   ]
  },
  {
   "cell_type": "markdown",
   "id": "f621d868",
   "metadata": {},
   "source": [
    "# Embeddings "
   ]
  },
  {
   "cell_type": "code",
   "execution_count": 3,
   "id": "1bf85842",
   "metadata": {},
   "outputs": [],
   "source": [
    "np.random.seed(123)"
   ]
  },
  {
   "cell_type": "code",
   "execution_count": 4,
   "id": "2becb0e0",
   "metadata": {},
   "outputs": [],
   "source": [
    "S = 3           # Sequence lenght\n",
    "D = 8           # Model dimension (embedding size)\n",
    "N_HEADS = 2\n",
    "D_K = D // N_HEADS         # Dimension of keys (used to scale attention)\n",
    "B = 2\n",
    "NBATCHES = 1\n",
    "VOCAB_SIZE = 10\n",
    "\n",
    "W_TE = np.random.rand(VOCAB_SIZE, D) # VOCAB_SIZE x D\n",
    "W_PE = np.random.rand(S, D)\n",
    "\n",
    "W_Q = np.random.rand(D, D_K * N_HEADS)\n",
    "W_K = np.random.rand(D, D_K * N_HEADS)\n",
    "W_V = np.random.rand(D, D_K * N_HEADS)\n",
    "W_O = np.random.rand(D, D)\n",
    "\n",
    "GAMMA = np.random.rand(B, S, 1)\n",
    "BETA = np.random.rand(B, S, 1)\n",
    "\n",
    "FFN_EXPCON_FAC = 4\n",
    "W_FFN_E = np.random.rand(D, FFN_EXPCON_FAC * D)\n",
    "W_FFN_C = np.random.rand(FFN_EXPCON_FAC * D, D)\n",
    "\n",
    "W_LOGITS = np.random.rand(B, D, VOCAB_SIZE)\n",
    "\n",
    "# GAMMA = np.ones((B,S,1))\n",
    "# BETA = np.zeros((B,S,1))\n",
    "\n",
    "# W_O = \n",
    "# W_FF_expand = \n",
    "# W_FF_contract =\n",
    "# gamma =\n",
    "# beta ="
   ]
  },
  {
   "cell_type": "code",
   "execution_count": 5,
   "id": "94eedb92",
   "metadata": {},
   "outputs": [],
   "source": [
    "from transformer import (\n",
    "    softmax,\n",
    "    relu,\n",
    "    qkv_projection,\n",
    "    layer_norm,\n",
    "    feed_forward_network,\n",
    "    block_forward,\n",
    "    multi_head_attention_backward,\n",
    "    softmax_backward_from_probs   \n",
    ")\n",
    "\n",
    "from transformer import multi_head_attention as mha_np\n",
    "from transformer import multi_head_attention_backward as mha_back_np\n",
    "\n",
    "from torch_primitives import torch_multi_head_attention_backward as mha_back_torch"
   ]
  },
  {
   "cell_type": "code",
   "execution_count": 6,
   "id": "91304d19",
   "metadata": {},
   "outputs": [],
   "source": [
    "def multi_head_attention(q: np.ndarray, k: np.ndarray, v: np.ndarray) -> np.ndarray:\n",
    "    assert q.shape == k.shape\n",
    "\n",
    "    # NOTE: swapaxes(1,2) is a final step after reshape to split the q matrix into each head\n",
    "    #       the final swapaxes(2,3) in tensor k is for transpose in the attention score calculation\n",
    "    attn_scores = q.reshape(B,S,N_HEADS,D_K).swapaxes(1,2) @ k.reshape(B,S,N_HEADS,D_K).swapaxes(1,2).swapaxes(2,3)\n",
    "    mask = np.tril(np.ones(attn_scores.shape), k=0).astype(bool)\n",
    "    attn_scores_masked = np.where(mask, attn_scores, -np.inf)\n",
    "\n",
    "    scale = 1.0 / np.sqrt(q.shape[-1])\n",
    "    causal_attn = softmax(attn_scores_masked * scale)\n",
    "\n",
    "    context_vectors = causal_attn @ v.reshape(B,S,N_HEADS,D_K).swapaxes(1,2) # Applies same reshape and swap as q & k\n",
    "\n",
    "    return context_vectors.swapaxes(1,2).reshape(B,S,D_K * N_HEADS) # Concat context vector from each head"
   ]
  },
  {
   "cell_type": "code",
   "execution_count": 7,
   "id": "8856c502",
   "metadata": {},
   "outputs": [],
   "source": [
    "def block_forward(x: np.ndarray):\n",
    "    q, k, v = qkv_projection(x, W_Q, W_K, W_V)\n",
    "    print(f\"qkv_proj: {(x.shape, q.shape, k.shape, v.shape)}\")\n",
    "\n",
    "    context_vec = multi_head_attention(q, k, v)\n",
    "    attn_out = context_vec @ W_O\n",
    "    print(f\"causal attn: {attn_out.shape}\")\n",
    "\n",
    "    ln_attn = layer_norm(x + attn_out, GAMMA, BETA)\n",
    "    print(f\"layer norm (attn): {ln_attn.shape}\")\n",
    "\n",
    "    ffn = feed_forward_network(ln_attn, W_FFN_E, W_FFN_C)\n",
    "    print(f\"ffn: {ffn.shape}\")\n",
    "\n",
    "    ln_head = layer_norm(ln_attn + ffn, GAMMA, BETA)\n",
    "    print(f\"layer norm head: {ln_head.shape}\")\n",
    "\n",
    "    return ln_head\n"
   ]
  },
  {
   "cell_type": "code",
   "execution_count": 8,
   "id": "055e12ea",
   "metadata": {},
   "outputs": [
    {
     "name": "stdout",
     "output_type": "stream",
     "text": [
      "data: (1, 2, 3)\n",
      "input emb: (1, 2, 3, 8)\n",
      "qkv_proj: ((2, 3, 8), (2, 3, 8), (2, 3, 8), (2, 3, 8))\n",
      "causal attn: (2, 3, 8)\n",
      "layer norm (attn): (2, 3, 8)\n",
      "ffn: (2, 3, 8)\n",
      "layer norm head: (2, 3, 8)\n",
      "qkv_proj: ((2, 3, 8), (2, 3, 8), (2, 3, 8), (2, 3, 8))\n",
      "causal attn: (2, 3, 8)\n",
      "layer norm (attn): (2, 3, 8)\n",
      "ffn: (2, 3, 8)\n",
      "layer norm head: (2, 3, 8)\n",
      "qkv_proj: ((2, 3, 8), (2, 3, 8), (2, 3, 8), (2, 3, 8))\n",
      "causal attn: (2, 3, 8)\n",
      "layer norm (attn): (2, 3, 8)\n",
      "ffn: (2, 3, 8)\n",
      "layer norm head: (2, 3, 8)\n"
     ]
    },
    {
     "data": {
      "text/plain": [
       "array([[3, 3, 0]])"
      ]
     },
     "execution_count": 8,
     "metadata": {},
     "output_type": "execute_result"
    }
   ],
   "source": [
    "data = np.random.randint(1, VOCAB_SIZE, (NBATCHES,B,S))\n",
    "\n",
    "input_emb = W_TE[data] + W_PE[np.arange(S)] # S x D\n",
    "print(f\"data: {data.shape}\")\n",
    "print(f\"input emb: {input_emb.shape}\")\n",
    "\n",
    "for batch in input_emb:\n",
    "    l1 = block_forward(batch)\n",
    "    l2 = block_forward(l1)\n",
    "    l3 = block_forward(l2)\n",
    "    logits = softmax(l3 @ W_LOGITS)\n",
    "    tokens = np.argmax(logits[:-1], axis=-1)\n",
    "tokens"
   ]
  },
  {
   "cell_type": "code",
   "execution_count": 9,
   "id": "6be81d25",
   "metadata": {},
   "outputs": [],
   "source": [
    "np.random.seed(123)\n",
    "q = np.random.rand(2,1,3,4)\n",
    "k = np.random.rand(2,1,3,4)\n",
    "v = np.random.rand(2,1,3,4)\n",
    "\n",
    "dOut = np.random.rand(2,1,3,4)"
   ]
  },
  {
   "cell_type": "code",
   "execution_count": 12,
   "id": "173045f4",
   "metadata": {},
   "outputs": [
    {
     "data": {
      "text/plain": [
       "array([[[[0.51948512, 0.61289453, 0.12062867, 0.8263408 ],\n",
       "         [0.55812428, 0.58153635, 0.22332821, 0.5849033 ],\n",
       "         [0.51260863, 0.61351953, 0.4474817 , 0.54803669]]],\n",
       "\n",
       "\n",
       "       [[[0.66931378, 0.58593655, 0.6249035 , 0.67468905],\n",
       "         [0.74549826, 0.36457956, 0.68600801, 0.48490987],\n",
       "         [0.54490799, 0.45948477, 0.47326716, 0.64405419]]]])"
      ]
     },
     "execution_count": 12,
     "metadata": {},
     "output_type": "execute_result"
    }
   ],
   "source": [
    "mha_np(q, k, v, unmasked=False)#.sum(axis=-1, keepdims=True)"
   ]
  },
  {
   "cell_type": "code",
   "execution_count": 44,
   "id": "474086ba",
   "metadata": {},
   "outputs": [
    {
     "ename": "ValueError",
     "evalue": "cannot reshape array of size 24 into shape (1,4,2,8)",
     "output_type": "error",
     "traceback": [
      "\u001b[31m---------------------------------------------------------------------------\u001b[39m",
      "\u001b[31mValueError\u001b[39m                                Traceback (most recent call last)",
      "\u001b[36mCell\u001b[39m\u001b[36m \u001b[39m\u001b[32mIn[44]\u001b[39m\u001b[32m, line 1\u001b[39m\n\u001b[32m----> \u001b[39m\u001b[32m1\u001b[39m \u001b[43mmha_np\u001b[49m\u001b[43m(\u001b[49m\u001b[43mq\u001b[49m\u001b[43m,\u001b[49m\u001b[43m \u001b[49m\u001b[43mk\u001b[49m\u001b[43m,\u001b[49m\u001b[43m \u001b[49m\u001b[43mv\u001b[49m\u001b[43m)\u001b[49m\u001b[38;5;66;03m#.sum(axis=-1, keepdims=True)\u001b[39;00m\n",
      "\u001b[36mFile \u001b[39m\u001b[32m~/Documents/courses/TSFM/lecture-three/lecture-three/transformer.py:116\u001b[39m, in \u001b[36mmulti_head_attention\u001b[39m\u001b[34m(q, k, v)\u001b[39m\n\u001b[32m    112\u001b[39m \u001b[38;5;28;01massert\u001b[39;00m q.shape == k.shape\n\u001b[32m    114\u001b[39m \u001b[38;5;66;03m# NOTE: swapaxes(1,2) is a final step after reshape to split the q matrix into each head\u001b[39;00m\n\u001b[32m    115\u001b[39m \u001b[38;5;66;03m#       the final swapaxes(2,3) in tensor k is for transpose in the attention score calculation\u001b[39;00m\n\u001b[32m--> \u001b[39m\u001b[32m116\u001b[39m attn_scores = \u001b[43mq\u001b[49m\u001b[43m.\u001b[49m\u001b[43mreshape\u001b[49m\u001b[43m(\u001b[49m\u001b[43mB\u001b[49m\u001b[43m,\u001b[49m\u001b[43mS\u001b[49m\u001b[43m,\u001b[49m\u001b[43mN_HEADS\u001b[49m\u001b[43m,\u001b[49m\u001b[43mD_K\u001b[49m\u001b[43m)\u001b[49m.swapaxes(\u001b[32m1\u001b[39m,\u001b[32m2\u001b[39m) @ k.reshape(B,S,N_HEADS,D_K).swapaxes(\u001b[32m1\u001b[39m,\u001b[32m2\u001b[39m).swapaxes(\u001b[32m2\u001b[39m,\u001b[32m3\u001b[39m)\n\u001b[32m    117\u001b[39m mask = np.tril(np.ones((S,S)), k=\u001b[32m0\u001b[39m).astype(\u001b[38;5;28mbool\u001b[39m)\n\u001b[32m    118\u001b[39m attn_scores_masked = np.where(mask, attn_scores, -np.inf)\n",
      "\u001b[31mValueError\u001b[39m: cannot reshape array of size 24 into shape (1,4,2,8)"
     ]
    }
   ],
   "source": [
    "mha_np(q, k, v)#.sum(axis=-1, keepdims=True)"
   ]
  },
  {
   "cell_type": "code",
   "execution_count": 45,
   "id": "8708d001",
   "metadata": {},
   "outputs": [],
   "source": [
    "import torch\n",
    "import torch.nn.functional as F"
   ]
  },
  {
   "cell_type": "code",
   "execution_count": 46,
   "id": "23f010d3",
   "metadata": {},
   "outputs": [],
   "source": [
    "def mha_torch(q, k, v):\n",
    "    q_torch = torch.from_numpy(q).float().requires_grad_(True)\n",
    "    k_torch = torch.from_numpy(k).float().requires_grad_(True)\n",
    "    v_torch = torch.from_numpy(v).float().requires_grad_(True)\n",
    "\n",
    "    # Multi-head attention forward pass\n",
    "    d_h = q_torch.shape[-1]\n",
    "    mask = torch.triu(torch.ones(2,3,3), diagonal=1)\n",
    "    attn_scores = q_torch @ k_torch.transpose(-2, -1) / np.sqrt(d_h)\n",
    "    causal_attn_scores = attn_scores.masked_fill(mask.bool(), -torch.inf)\n",
    "    attn_weights = F.softmax(causal_attn_scores, dim=-1)\n",
    "    output_torch = attn_weights @ v_torch\n",
    "\n",
    "    return output_torch\n",
    "\n",
    "# output_torch.backward(dOut_torch)"
   ]
  },
  {
   "cell_type": "code",
   "execution_count": 47,
   "id": "ff8038f1",
   "metadata": {},
   "outputs": [
    {
     "data": {
      "text/plain": [
       "tensor([[[[0.5195, 0.6129, 0.1206, 0.8263],\n",
       "          [0.5581, 0.5815, 0.2233, 0.5849],\n",
       "          [0.5126, 0.6135, 0.4475, 0.5480]],\n",
       "\n",
       "         [[0.5195, 0.6129, 0.1206, 0.8263],\n",
       "          [0.5581, 0.5815, 0.2233, 0.5849],\n",
       "          [0.5126, 0.6135, 0.4475, 0.5480]]],\n",
       "\n",
       "\n",
       "        [[[0.6693, 0.5859, 0.6249, 0.6747],\n",
       "          [0.7455, 0.3646, 0.6860, 0.4849],\n",
       "          [0.5449, 0.4595, 0.4733, 0.6441]],\n",
       "\n",
       "         [[0.6693, 0.5859, 0.6249, 0.6747],\n",
       "          [0.7455, 0.3646, 0.6860, 0.4849],\n",
       "          [0.5449, 0.4595, 0.4733, 0.6441]]]], grad_fn=<UnsafeViewBackward0>)"
      ]
     },
     "execution_count": 47,
     "metadata": {},
     "output_type": "execute_result"
    }
   ],
   "source": [
    "mha_torch(q, k, v)"
   ]
  },
  {
   "cell_type": "code",
   "execution_count": 48,
   "id": "ecfbcb44",
   "metadata": {},
   "outputs": [],
   "source": [
    "def multi_head_attention_backward(q: np.ndarray, k: np.ndarray, v: np.ndarray, dOut: np.ndarray):\n",
    "    B, N_HEADS, S, D_K = q.shape\n",
    "    scale = 1.0 / np.sqrt(D_K)\n",
    "\n",
    "    attn_scores = q.reshape(B,S,N_HEADS,D_K).swapaxes(1,2) @ k.reshape(B,S,N_HEADS,D_K).swapaxes(1,2).swapaxes(2,3)\n",
    "    mask = np.tril(np.ones((B,N_HEADS,S,S)), k=0).astype(bool)\n",
    "    attn_scores_masked = np.where(mask, attn_scores, -np.inf)\n",
    "\n",
    "    scale = 1.0 / np.sqrt(q.shape[-1])\n",
    "    causal_attn = softmax(attn_scores_masked * scale)\n",
    "\n",
    "    dV = np.swapaxes(causal_attn, -2, -1) @ dOut.reshape(B,S,N_HEADS,D_K).swapaxes(1,2)\n",
    "    dAttn = dOut.reshape(B,S,N_HEADS,D_K).swapaxes(1,2) @ np.swapaxes(v.reshape(B,S,N_HEADS,D_K).swapaxes(1,2), -2, -1)\n",
    "\n",
    "    dScores = softmax_backward_from_probs(causal_attn, dAttn)\n",
    "\n",
    "    dQ = dScores @ k.reshape(B,S,N_HEADS,D_K).swapaxes(1,2) * scale\n",
    "    dK = np.swapaxes(dScores, -2, -1) @ q.reshape(B,S,N_HEADS,D_K).swapaxes(1,2) * scale\n",
    "    return dQ, dK, dV"
   ]
  },
  {
   "cell_type": "code",
   "execution_count": 49,
   "id": "b3f7fb5c",
   "metadata": {},
   "outputs": [],
   "source": [
    "def torch_multi_head_attention_backward(q_np, k_np, v_np, dOut_np):\n",
    "    \"\"\"PyTorch implementation of multi-head attention backward pass\"\"\"\n",
    "    q_torch = torch.from_numpy(q_np).float().requires_grad_(True)\n",
    "    k_torch = torch.from_numpy(k_np).float().requires_grad_(True)\n",
    "    v_torch = torch.from_numpy(v_np).float().requires_grad_(True)\n",
    "    dOut_torch = torch.from_numpy(dOut_np).float()\n",
    "\n",
    "    B, N_HEADS, S, D_K = q_torch.shape\n",
    "    print(q_torch.shape)\n",
    "\n",
    "    # Multi-head attention forward pass\n",
    "    mask = torch.triu(torch.ones(B, N_HEADS, S, S), diagonal=1)\n",
    "    attn_scores = q_torch @ k_torch.transpose(-2, -1) / np.sqrt(D_K)\n",
    "    causal_attn_scores = attn_scores.masked_fill(mask.bool(), -torch.inf)\n",
    "    attn_weights = F.softmax(causal_attn_scores, dim=-1)\n",
    "    output_torch = attn_weights @ v_torch\n",
    "    print(output_torch.shape)\n",
    "\n",
    "    output_torch.backward(dOut_torch)\n",
    "\n",
    "    return (\n",
    "        q_torch.grad.detach().numpy(),\n",
    "        k_torch.grad.detach().numpy(),\n",
    "        v_torch.grad.detach().numpy(),\n",
    "    )"
   ]
  },
  {
   "cell_type": "code",
   "execution_count": 50,
   "id": "8484acb8",
   "metadata": {},
   "outputs": [
    {
     "data": {
      "text/plain": [
       "array([[[[ 0.        ,  0.        ,  0.        ,  0.        ],\n",
       "         [ 0.01563788, -0.01123491,  0.0098367 , -0.00749334],\n",
       "         [ 0.00040571, -0.00184811,  0.01019378, -0.00243235]]],\n",
       "\n",
       "\n",
       "       [[[ 0.        ,  0.        ,  0.        ,  0.        ],\n",
       "         [-0.01165394,  0.04587054,  0.03697114,  0.00513161],\n",
       "         [-0.0142082 ,  0.03768114,  0.02941429, -0.00509489]]]])"
      ]
     },
     "execution_count": 50,
     "metadata": {},
     "output_type": "execute_result"
    }
   ],
   "source": [
    "multi_head_attention_backward(q, k, v, dOut)[0]"
   ]
  },
  {
   "cell_type": "code",
   "execution_count": 51,
   "id": "0b254c67",
   "metadata": {},
   "outputs": [
    {
     "name": "stdout",
     "output_type": "stream",
     "text": [
      "torch.Size([2, 1, 3, 4])\n",
      "torch.Size([2, 1, 3, 4])\n"
     ]
    },
    {
     "data": {
      "text/plain": [
       "array([[[[ 0.        ,  0.        ,  0.        ,  0.        ],\n",
       "         [ 0.01563788, -0.01123491,  0.0098367 , -0.00749334],\n",
       "         [ 0.0004057 , -0.00184811,  0.01019377, -0.00243235]]],\n",
       "\n",
       "\n",
       "       [[[ 0.        ,  0.        ,  0.        ,  0.        ],\n",
       "         [-0.01165394,  0.04587054,  0.03697114,  0.00513161],\n",
       "         [-0.0142082 ,  0.03768113,  0.02941428, -0.0050949 ]]]],\n",
       "      dtype=float32)"
      ]
     },
     "execution_count": 51,
     "metadata": {},
     "output_type": "execute_result"
    }
   ],
   "source": [
    "torch_multi_head_attention_backward(q, k, v, dOut)[0]"
   ]
  },
  {
   "cell_type": "code",
   "execution_count": 18,
   "id": "b4e499fd",
   "metadata": {},
   "outputs": [
    {
     "ename": "ValueError",
     "evalue": "cannot reshape array of size 24 into shape (1,3,1,4)",
     "output_type": "error",
     "traceback": [
      "\u001b[31m---------------------------------------------------------------------------\u001b[39m",
      "\u001b[31mValueError\u001b[39m                                Traceback (most recent call last)",
      "\u001b[36mCell\u001b[39m\u001b[36m \u001b[39m\u001b[32mIn[18]\u001b[39m\u001b[32m, line 1\u001b[39m\n\u001b[32m----> \u001b[39m\u001b[32m1\u001b[39m \u001b[43mmha_back_np\u001b[49m\u001b[43m(\u001b[49m\u001b[43mq\u001b[49m\u001b[43m,\u001b[49m\u001b[43m \u001b[49m\u001b[43mk\u001b[49m\u001b[43m,\u001b[49m\u001b[43m \u001b[49m\u001b[43mv\u001b[49m\u001b[43m,\u001b[49m\u001b[43m \u001b[49m\u001b[43mdOut\u001b[49m\u001b[43m)\u001b[49m[\u001b[32m0\u001b[39m]\n",
      "\u001b[36mFile \u001b[39m\u001b[32m~/Documents/courses/TSFM/lecture-three/lecture-three/transformer.py:144\u001b[39m, in \u001b[36mmulti_head_attention_backward\u001b[39m\u001b[34m(q, k, v, dOut)\u001b[39m\n\u001b[32m    141\u001b[39m Dh = q.shape[-\u001b[32m1\u001b[39m]\n\u001b[32m    142\u001b[39m scale = \u001b[32m1.0\u001b[39m / np.sqrt(Dh)\n\u001b[32m--> \u001b[39m\u001b[32m144\u001b[39m attn_scores = \u001b[43mq\u001b[49m\u001b[43m.\u001b[49m\u001b[43mreshape\u001b[49m\u001b[43m(\u001b[49m\u001b[43mB\u001b[49m\u001b[43m,\u001b[49m\u001b[43mS\u001b[49m\u001b[43m,\u001b[49m\u001b[43mN_HEADS\u001b[49m\u001b[43m,\u001b[49m\u001b[43mD_K\u001b[49m\u001b[43m)\u001b[49m.swapaxes(\u001b[32m1\u001b[39m,\u001b[32m2\u001b[39m) @ k.reshape(B,S,N_HEADS,D_K).swapaxes(\u001b[32m1\u001b[39m,\u001b[32m2\u001b[39m).swapaxes(\u001b[32m2\u001b[39m,\u001b[32m3\u001b[39m)\n\u001b[32m    145\u001b[39m mask = np.tril(np.ones(attn_scores.shape), k=\u001b[32m0\u001b[39m).astype(\u001b[38;5;28mbool\u001b[39m)\n\u001b[32m    146\u001b[39m attn_scores_masked = np.where(mask, attn_scores, -np.inf)\n",
      "\u001b[31mValueError\u001b[39m: cannot reshape array of size 24 into shape (1,3,1,4)"
     ]
    }
   ],
   "source": [
    "mha_back_np(q, k, v, dOut)[0]"
   ]
  },
  {
   "cell_type": "code",
   "execution_count": 101,
   "id": "66df4b18",
   "metadata": {},
   "outputs": [
    {
     "data": {
      "text/plain": [
       "array([[[ 0.        ,  0.        ,  0.        ,  0.        ],\n",
       "        [ 0.01563788, -0.01123491,  0.0098367 , -0.00749334],\n",
       "        [ 0.0004057 , -0.00184811,  0.01019377, -0.00243235]],\n",
       "\n",
       "       [[ 0.        ,  0.        ,  0.        ,  0.        ],\n",
       "        [-0.01165394,  0.04587054,  0.03697114,  0.00513161],\n",
       "        [-0.0142082 ,  0.03768113,  0.02941428, -0.0050949 ]]],\n",
       "      dtype=float32)"
      ]
     },
     "execution_count": 101,
     "metadata": {},
     "output_type": "execute_result"
    }
   ],
   "source": [
    "mha_back_torch(q,k,v,dOut)[0]"
   ]
  },
  {
   "cell_type": "code",
   "execution_count": null,
   "id": "e2b63188",
   "metadata": {},
   "outputs": [],
   "source": []
  },
  {
   "cell_type": "code",
   "execution_count": null,
   "id": "344104ce",
   "metadata": {},
   "outputs": [],
   "source": []
  },
  {
   "cell_type": "code",
   "execution_count": 64,
   "id": "8a129af7",
   "metadata": {},
   "outputs": [
    {
     "data": {
      "text/plain": [
       "torch.Size([2, 3, 3])"
      ]
     },
     "execution_count": 64,
     "metadata": {},
     "output_type": "execute_result"
    }
   ],
   "source": [
    "mask.bool().shape"
   ]
  },
  {
   "cell_type": "code",
   "execution_count": 57,
   "id": "711ca171",
   "metadata": {},
   "outputs": [
    {
     "data": {
      "text/plain": [
       "torch.Size([2, 3, 3])"
      ]
     },
     "execution_count": 57,
     "metadata": {},
     "output_type": "execute_result"
    }
   ],
   "source": [
    "attn_scores.shape"
   ]
  },
  {
   "cell_type": "code",
   "execution_count": 14,
   "id": "714aa6f9",
   "metadata": {},
   "outputs": [
    {
     "data": {
      "text/plain": [
       "(2, 4, 3)"
      ]
     },
     "execution_count": 14,
     "metadata": {},
     "output_type": "execute_result"
    }
   ],
   "source": [
    "k.swapaxes(1,2).shape"
   ]
  },
  {
   "cell_type": "code",
   "execution_count": 47,
   "id": "4666d5fd",
   "metadata": {},
   "outputs": [
    {
     "data": {
      "text/plain": [
       "array([[[ 0.01127838, -0.00791101,  0.00586967, -0.00512856],\n",
       "        [ 0.01035594, -0.00737556,  0.00610205, -0.00486952],\n",
       "        [ 0.0004057 , -0.00184811,  0.01019377, -0.00243235]],\n",
       "\n",
       "       [[-0.02505569,  0.03117587,  0.02159204, -0.03093255],\n",
       "        [-0.01166164,  0.03306082,  0.0259736 , -0.00285432],\n",
       "        [-0.0142082 ,  0.03768113,  0.02941428, -0.0050949 ]]],\n",
       "      dtype=float32)"
      ]
     },
     "execution_count": 47,
     "metadata": {},
     "output_type": "execute_result"
    }
   ],
   "source": [
    "mha_back_torch(q, k, v, dOut)[0]"
   ]
  },
  {
   "cell_type": "code",
   "execution_count": 650,
   "id": "494bca70",
   "metadata": {},
   "outputs": [
    {
     "data": {
      "text/plain": [
       "array([[1, 7, 3],\n",
       "       [4, 5, 6]])"
      ]
     },
     "execution_count": 650,
     "metadata": {},
     "output_type": "execute_result"
    }
   ],
   "source": [
    "a = np.array([[1,7,3],[4,5,6]])\n",
    "a"
   ]
  },
  {
   "cell_type": "code",
   "execution_count": 652,
   "id": "62c8d9c3",
   "metadata": {},
   "outputs": [
    {
     "data": {
      "text/plain": [
       "array([1, 0, 1])"
      ]
     },
     "execution_count": 652,
     "metadata": {},
     "output_type": "execute_result"
    }
   ],
   "source": [
    "np.argmax(a, axis=0)"
   ]
  },
  {
   "cell_type": "code",
   "execution_count": 658,
   "id": "15ed3571",
   "metadata": {},
   "outputs": [],
   "source": [
    "a = np.array([[[1,2],[3,4]],[[5,6],[7,8]]])"
   ]
  },
  {
   "cell_type": "code",
   "execution_count": 659,
   "id": "2f21e761",
   "metadata": {},
   "outputs": [
    {
     "data": {
      "text/plain": [
       "array([[[  7,  10],\n",
       "        [ 15,  22]],\n",
       "\n",
       "       [[ 67,  78],\n",
       "        [ 91, 106]]])"
      ]
     },
     "execution_count": 659,
     "metadata": {},
     "output_type": "execute_result"
    }
   ],
   "source": [
    "a @ a"
   ]
  },
  {
   "cell_type": "code",
   "execution_count": 662,
   "id": "2a1d279d",
   "metadata": {},
   "outputs": [
    {
     "data": {
      "text/plain": [
       "array([[ 67,  78],\n",
       "       [ 91, 106]])"
      ]
     },
     "execution_count": 662,
     "metadata": {},
     "output_type": "execute_result"
    }
   ],
   "source": [
    "a[1] @ a[1]"
   ]
  },
  {
   "cell_type": "code",
   "execution_count": null,
   "id": "49d0bc68",
   "metadata": {},
   "outputs": [],
   "source": []
  }
 ],
 "metadata": {
  "kernelspec": {
   "display_name": "lecture-3-code",
   "language": "python",
   "name": "python3"
  },
  "language_info": {
   "codemirror_mode": {
    "name": "ipython",
    "version": 3
   },
   "file_extension": ".py",
   "mimetype": "text/x-python",
   "name": "python",
   "nbconvert_exporter": "python",
   "pygments_lexer": "ipython3",
   "version": "3.13.5"
  }
 },
 "nbformat": 4,
 "nbformat_minor": 5
}
